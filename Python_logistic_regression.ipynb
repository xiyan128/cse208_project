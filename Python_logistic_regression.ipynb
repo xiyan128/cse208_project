{
 "cells": [
  {
   "cell_type": "code",
   "execution_count": 11,
   "metadata": {},
   "outputs": [],
   "source": [
    "import numpy as np\n",
    "from sklearn.model_selection import train_test_split\n",
    "from sklearn.linear_model import LogisticRegression\n",
    "from sklearn.metrics import accuracy_score\n",
    "import time"
   ]
  },
  {
   "cell_type": "code",
   "execution_count": 12,
   "metadata": {},
   "outputs": [],
   "source": [
    "def generate_data(n, num_points=100):\n",
    "    np.random.seed(42)\n",
    "    X = np.random.rand(num_points, n)\n",
    "    \n",
    "    # Make the criteria for assigning y more non-linear\n",
    "    y = ((np.sum(X[:, :n//2] >= 0.5, axis=1) > n//4) & (np.sum(X[:, :n//2] >= 0.7, axis=1) > n//6)).astype(int)\n",
    "    \n",
    "    return X, y\n",
    "\n",
    "def save_test_data_to_file(filename, X_test, y_test):\n",
    "    with open(filename, 'w') as file:\n",
    "        for i in range(X_test.shape[0]):\n",
    "            line = ' '.join(map(str, X_test[i])) + f' {y_test[i]}\\n'\n",
    "            file.write(line)"
   ]
  },
  {
   "cell_type": "code",
   "execution_count": 13,
   "metadata": {},
   "outputs": [
    {
     "name": "stdout",
     "output_type": "stream",
     "text": [
      "Test data with 2 dimensions processed.\n",
      "Test data with 4 dimensions processed.\n",
      "Test data with 8 dimensions processed.\n",
      "Test data with 16 dimensions processed.\n",
      "Test data with 32 dimensions processed.\n"
     ]
    }
   ],
   "source": [
    "dimensions = [2, 4, 8, 16, 32]\n",
    "\n",
    "for n in dimensions:\n",
    "    X, y = generate_data(n)\n",
    "\n",
    "    # Split the dataset into training and test sets (70% train, 30% test)\n",
    "    X_train, X_test, y_train, y_test = train_test_split(X, y, test_size=0.3, random_state=42)\n",
    "\n",
    "    # Train a logistic regression classifier\n",
    "    clf = LogisticRegression(random_state=42)\n",
    "    clf.fit(X_train, y_train)\n",
    "\n",
    "    # Test the classifier on the test set and measure prediction time\n",
    "    start_time = time.time()\n",
    "    y_pred = clf.predict(X_test)\n",
    "    prediction_time = time.time() - start_time\n",
    "\n",
    "    # Calculate accuracy\n",
    "    test_accuracy = accuracy_score(y_test, y_pred)\n",
    "\n",
    "    # Save test data to a file\n",
    "    test_data_filename = f'test_data_{n}D.txt'\n",
    "    save_test_data_to_file(test_data_filename, X_test, y_test)\n",
    "\n",
    "    result_filename = f'results_{n}D.txt'\n",
    "    with open(result_filename, 'w') as file:\n",
    "        file.write(f'Test Accuracy: {test_accuracy:.4f}\\n')\n",
    "        file.write(f'Time to predict on test data: {prediction_time:.6f} seconds\\n')\n",
    "\n",
    "    print(f'Test data with {n} dimensions processed.')\n"
   ]
  },
  {
   "cell_type": "code",
   "execution_count": null,
   "metadata": {},
   "outputs": [],
   "source": []
  }
 ],
 "metadata": {
  "kernelspec": {
   "display_name": "Python 3",
   "language": "python",
   "name": "python3"
  },
  "language_info": {
   "codemirror_mode": {
    "name": "ipython",
    "version": 3
   },
   "file_extension": ".py",
   "mimetype": "text/x-python",
   "name": "python",
   "nbconvert_exporter": "python",
   "pygments_lexer": "ipython3",
   "version": "3.8.5"
  }
 },
 "nbformat": 4,
 "nbformat_minor": 4
}
